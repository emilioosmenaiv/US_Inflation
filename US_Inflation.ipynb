{
 "cells": [
  {
   "cell_type": "code",
   "execution_count": 4,
   "id": "dc348bc8",
   "metadata": {},
   "outputs": [],
   "source": [
    "#United States Inflation "
   ]
  },
  {
   "cell_type": "code",
   "execution_count": 5,
   "id": "30ad3f28",
   "metadata": {},
   "outputs": [],
   "source": [
    "# This Python 3 environment comes with many helpful analytics libraries installed\n",
    "# It is defined by the kaggle/python Docker image: https://github.com/kaggle/docker-python\n",
    "# For example, here's several helpful packages to load\n",
    "\n",
    "import numpy as np # linear algebra\n",
    "import pandas as pd # data processing, CSV file I/O (e.g. pd.read_csv)\n",
    "\n",
    "# Input data files are available in the read-only \"../input/\" directory\n",
    "# For example, running this (by clicking run or pressing Shift+Enter) will list all files under the input directory\n",
    "\n",
    "#import os\n",
    "#for dirname, _, filenames in os.walk('/kaggle/input'):\n",
    "    #for filename in filenames:\n",
    "        #print(os.path.join(dirname, filename))\n",
    "\n",
    "# You can write up to 20GB to the current directory (/kaggle/working/) that gets preserved as output when you create a version using \"Save & Run All\" \n",
    "# You can also write temporary files to /kaggle/temp/, but they won't be saved outside of the current session\n",
    "\n",
    "\n",
    "#Credit from https://www.kaggle.com/datasets/neelgajare/usa-cpi-inflation-from-19132022?select=inflation.csv"
   ]
  },
  {
   "cell_type": "code",
   "execution_count": 6,
   "id": "039a0bf2",
   "metadata": {},
   "outputs": [],
   "source": [
    "df = pd.read_csv('inflation.csv')"
   ]
  },
  {
   "cell_type": "code",
   "execution_count": 41,
   "id": "9abf5acf",
   "metadata": {},
   "outputs": [
    {
     "data": {
      "text/html": [
       "<div>\n",
       "<style scoped>\n",
       "    .dataframe tbody tr th:only-of-type {\n",
       "        vertical-align: middle;\n",
       "    }\n",
       "\n",
       "    .dataframe tbody tr th {\n",
       "        vertical-align: top;\n",
       "    }\n",
       "\n",
       "    .dataframe thead th {\n",
       "        text-align: right;\n",
       "    }\n",
       "</style>\n",
       "<table border=\"1\" class=\"dataframe\">\n",
       "  <thead>\n",
       "    <tr style=\"text-align: right;\">\n",
       "      <th></th>\n",
       "      <th>Year</th>\n",
       "      <th>Jan</th>\n",
       "      <th>Feb</th>\n",
       "      <th>Mar</th>\n",
       "      <th>Apr</th>\n",
       "      <th>May</th>\n",
       "      <th>Jun</th>\n",
       "      <th>Jul</th>\n",
       "      <th>Aug</th>\n",
       "      <th>Sep</th>\n",
       "      <th>Oct</th>\n",
       "      <th>Nov</th>\n",
       "      <th>Dec</th>\n",
       "    </tr>\n",
       "  </thead>\n",
       "  <tbody>\n",
       "    <tr>\n",
       "      <th>0</th>\n",
       "      <td>1913</td>\n",
       "      <td>9.800</td>\n",
       "      <td>9.800</td>\n",
       "      <td>9.800</td>\n",
       "      <td>9.800</td>\n",
       "      <td>9.700</td>\n",
       "      <td>9.800</td>\n",
       "      <td>9.900</td>\n",
       "      <td>9.900</td>\n",
       "      <td>10.000</td>\n",
       "      <td>10.000</td>\n",
       "      <td>10.100</td>\n",
       "      <td>10.000</td>\n",
       "    </tr>\n",
       "    <tr>\n",
       "      <th>1</th>\n",
       "      <td>1914</td>\n",
       "      <td>10.000</td>\n",
       "      <td>9.900</td>\n",
       "      <td>9.900</td>\n",
       "      <td>9.800</td>\n",
       "      <td>9.900</td>\n",
       "      <td>9.900</td>\n",
       "      <td>10.000</td>\n",
       "      <td>10.200</td>\n",
       "      <td>10.200</td>\n",
       "      <td>10.100</td>\n",
       "      <td>10.200</td>\n",
       "      <td>10.100</td>\n",
       "    </tr>\n",
       "    <tr>\n",
       "      <th>2</th>\n",
       "      <td>1915</td>\n",
       "      <td>10.100</td>\n",
       "      <td>10.000</td>\n",
       "      <td>9.900</td>\n",
       "      <td>10.000</td>\n",
       "      <td>10.100</td>\n",
       "      <td>10.100</td>\n",
       "      <td>10.100</td>\n",
       "      <td>10.100</td>\n",
       "      <td>10.100</td>\n",
       "      <td>10.200</td>\n",
       "      <td>10.300</td>\n",
       "      <td>10.300</td>\n",
       "    </tr>\n",
       "    <tr>\n",
       "      <th>3</th>\n",
       "      <td>1916</td>\n",
       "      <td>10.400</td>\n",
       "      <td>10.400</td>\n",
       "      <td>10.500</td>\n",
       "      <td>10.600</td>\n",
       "      <td>10.700</td>\n",
       "      <td>10.800</td>\n",
       "      <td>10.800</td>\n",
       "      <td>10.900</td>\n",
       "      <td>11.100</td>\n",
       "      <td>11.300</td>\n",
       "      <td>11.500</td>\n",
       "      <td>11.600</td>\n",
       "    </tr>\n",
       "    <tr>\n",
       "      <th>4</th>\n",
       "      <td>1917</td>\n",
       "      <td>11.700</td>\n",
       "      <td>12.000</td>\n",
       "      <td>12.000</td>\n",
       "      <td>12.600</td>\n",
       "      <td>12.800</td>\n",
       "      <td>13.000</td>\n",
       "      <td>12.800</td>\n",
       "      <td>13.000</td>\n",
       "      <td>13.300</td>\n",
       "      <td>13.500</td>\n",
       "      <td>13.500</td>\n",
       "      <td>13.700</td>\n",
       "    </tr>\n",
       "    <tr>\n",
       "      <th>...</th>\n",
       "      <td>...</td>\n",
       "      <td>...</td>\n",
       "      <td>...</td>\n",
       "      <td>...</td>\n",
       "      <td>...</td>\n",
       "      <td>...</td>\n",
       "      <td>...</td>\n",
       "      <td>...</td>\n",
       "      <td>...</td>\n",
       "      <td>...</td>\n",
       "      <td>...</td>\n",
       "      <td>...</td>\n",
       "      <td>...</td>\n",
       "    </tr>\n",
       "    <tr>\n",
       "      <th>105</th>\n",
       "      <td>2018</td>\n",
       "      <td>247.867</td>\n",
       "      <td>248.991</td>\n",
       "      <td>249.554</td>\n",
       "      <td>250.546</td>\n",
       "      <td>251.588</td>\n",
       "      <td>251.989</td>\n",
       "      <td>252.006</td>\n",
       "      <td>252.146</td>\n",
       "      <td>252.439</td>\n",
       "      <td>252.885</td>\n",
       "      <td>252.038</td>\n",
       "      <td>251.233</td>\n",
       "    </tr>\n",
       "    <tr>\n",
       "      <th>106</th>\n",
       "      <td>2019</td>\n",
       "      <td>251.712</td>\n",
       "      <td>252.776</td>\n",
       "      <td>254.202</td>\n",
       "      <td>255.548</td>\n",
       "      <td>256.092</td>\n",
       "      <td>256.143</td>\n",
       "      <td>256.571</td>\n",
       "      <td>256.558</td>\n",
       "      <td>256.759</td>\n",
       "      <td>257.346</td>\n",
       "      <td>257.208</td>\n",
       "      <td>256.974</td>\n",
       "    </tr>\n",
       "    <tr>\n",
       "      <th>107</th>\n",
       "      <td>2020</td>\n",
       "      <td>257.971</td>\n",
       "      <td>258.678</td>\n",
       "      <td>258.115</td>\n",
       "      <td>256.389</td>\n",
       "      <td>256.394</td>\n",
       "      <td>257.797</td>\n",
       "      <td>259.101</td>\n",
       "      <td>259.918</td>\n",
       "      <td>260.280</td>\n",
       "      <td>260.388</td>\n",
       "      <td>260.229</td>\n",
       "      <td>260.474</td>\n",
       "    </tr>\n",
       "    <tr>\n",
       "      <th>108</th>\n",
       "      <td>2021</td>\n",
       "      <td>261.582</td>\n",
       "      <td>263.014</td>\n",
       "      <td>264.877</td>\n",
       "      <td>267.054</td>\n",
       "      <td>269.195</td>\n",
       "      <td>271.696</td>\n",
       "      <td>273.003</td>\n",
       "      <td>273.567</td>\n",
       "      <td>274.310</td>\n",
       "      <td>276.589</td>\n",
       "      <td>277.948</td>\n",
       "      <td>278.802</td>\n",
       "    </tr>\n",
       "    <tr>\n",
       "      <th>109</th>\n",
       "      <td>2022</td>\n",
       "      <td>281.148</td>\n",
       "      <td>283.716</td>\n",
       "      <td>287.504</td>\n",
       "      <td>289.109</td>\n",
       "      <td>NaN</td>\n",
       "      <td>NaN</td>\n",
       "      <td>NaN</td>\n",
       "      <td>NaN</td>\n",
       "      <td>NaN</td>\n",
       "      <td>NaN</td>\n",
       "      <td>NaN</td>\n",
       "      <td>NaN</td>\n",
       "    </tr>\n",
       "  </tbody>\n",
       "</table>\n",
       "<p>110 rows × 13 columns</p>\n",
       "</div>"
      ],
      "text/plain": [
       "     Year      Jan      Feb      Mar      Apr      May      Jun      Jul  \\\n",
       "0    1913    9.800    9.800    9.800    9.800    9.700    9.800    9.900   \n",
       "1    1914   10.000    9.900    9.900    9.800    9.900    9.900   10.000   \n",
       "2    1915   10.100   10.000    9.900   10.000   10.100   10.100   10.100   \n",
       "3    1916   10.400   10.400   10.500   10.600   10.700   10.800   10.800   \n",
       "4    1917   11.700   12.000   12.000   12.600   12.800   13.000   12.800   \n",
       "..    ...      ...      ...      ...      ...      ...      ...      ...   \n",
       "105  2018  247.867  248.991  249.554  250.546  251.588  251.989  252.006   \n",
       "106  2019  251.712  252.776  254.202  255.548  256.092  256.143  256.571   \n",
       "107  2020  257.971  258.678  258.115  256.389  256.394  257.797  259.101   \n",
       "108  2021  261.582  263.014  264.877  267.054  269.195  271.696  273.003   \n",
       "109  2022  281.148  283.716  287.504  289.109      NaN      NaN      NaN   \n",
       "\n",
       "         Aug      Sep      Oct      Nov      Dec  \n",
       "0      9.900   10.000   10.000   10.100   10.000  \n",
       "1     10.200   10.200   10.100   10.200   10.100  \n",
       "2     10.100   10.100   10.200   10.300   10.300  \n",
       "3     10.900   11.100   11.300   11.500   11.600  \n",
       "4     13.000   13.300   13.500   13.500   13.700  \n",
       "..       ...      ...      ...      ...      ...  \n",
       "105  252.146  252.439  252.885  252.038  251.233  \n",
       "106  256.558  256.759  257.346  257.208  256.974  \n",
       "107  259.918  260.280  260.388  260.229  260.474  \n",
       "108  273.567  274.310  276.589  277.948  278.802  \n",
       "109      NaN      NaN      NaN      NaN      NaN  \n",
       "\n",
       "[110 rows x 13 columns]"
      ]
     },
     "execution_count": 41,
     "metadata": {},
     "output_type": "execute_result"
    }
   ],
   "source": [
    "df"
   ]
  },
  {
   "cell_type": "code",
   "execution_count": 8,
   "id": "5477e374",
   "metadata": {},
   "outputs": [
    {
     "data": {
      "text/html": [
       "<div>\n",
       "<style scoped>\n",
       "    .dataframe tbody tr th:only-of-type {\n",
       "        vertical-align: middle;\n",
       "    }\n",
       "\n",
       "    .dataframe tbody tr th {\n",
       "        vertical-align: top;\n",
       "    }\n",
       "\n",
       "    .dataframe thead th {\n",
       "        text-align: right;\n",
       "    }\n",
       "</style>\n",
       "<table border=\"1\" class=\"dataframe\">\n",
       "  <thead>\n",
       "    <tr style=\"text-align: right;\">\n",
       "      <th></th>\n",
       "      <th>Year</th>\n",
       "      <th>Jan</th>\n",
       "      <th>Feb</th>\n",
       "      <th>Mar</th>\n",
       "      <th>Apr</th>\n",
       "      <th>May</th>\n",
       "      <th>Jun</th>\n",
       "      <th>Jul</th>\n",
       "      <th>Aug</th>\n",
       "      <th>Sep</th>\n",
       "      <th>Oct</th>\n",
       "      <th>Nov</th>\n",
       "      <th>Dec</th>\n",
       "    </tr>\n",
       "  </thead>\n",
       "  <tbody>\n",
       "    <tr>\n",
       "      <th>0</th>\n",
       "      <td>1913</td>\n",
       "      <td>9.800</td>\n",
       "      <td>9.800</td>\n",
       "      <td>9.800</td>\n",
       "      <td>9.800</td>\n",
       "      <td>9.700</td>\n",
       "      <td>9.800</td>\n",
       "      <td>9.900</td>\n",
       "      <td>9.900</td>\n",
       "      <td>10.000</td>\n",
       "      <td>10.000</td>\n",
       "      <td>10.100</td>\n",
       "      <td>10.000</td>\n",
       "    </tr>\n",
       "    <tr>\n",
       "      <th>1</th>\n",
       "      <td>1914</td>\n",
       "      <td>10.000</td>\n",
       "      <td>9.900</td>\n",
       "      <td>9.900</td>\n",
       "      <td>9.800</td>\n",
       "      <td>9.900</td>\n",
       "      <td>9.900</td>\n",
       "      <td>10.000</td>\n",
       "      <td>10.200</td>\n",
       "      <td>10.200</td>\n",
       "      <td>10.100</td>\n",
       "      <td>10.200</td>\n",
       "      <td>10.100</td>\n",
       "    </tr>\n",
       "    <tr>\n",
       "      <th>2</th>\n",
       "      <td>1915</td>\n",
       "      <td>10.100</td>\n",
       "      <td>10.000</td>\n",
       "      <td>9.900</td>\n",
       "      <td>10.000</td>\n",
       "      <td>10.100</td>\n",
       "      <td>10.100</td>\n",
       "      <td>10.100</td>\n",
       "      <td>10.100</td>\n",
       "      <td>10.100</td>\n",
       "      <td>10.200</td>\n",
       "      <td>10.300</td>\n",
       "      <td>10.300</td>\n",
       "    </tr>\n",
       "    <tr>\n",
       "      <th>3</th>\n",
       "      <td>1916</td>\n",
       "      <td>10.400</td>\n",
       "      <td>10.400</td>\n",
       "      <td>10.500</td>\n",
       "      <td>10.600</td>\n",
       "      <td>10.700</td>\n",
       "      <td>10.800</td>\n",
       "      <td>10.800</td>\n",
       "      <td>10.900</td>\n",
       "      <td>11.100</td>\n",
       "      <td>11.300</td>\n",
       "      <td>11.500</td>\n",
       "      <td>11.600</td>\n",
       "    </tr>\n",
       "    <tr>\n",
       "      <th>4</th>\n",
       "      <td>1917</td>\n",
       "      <td>11.700</td>\n",
       "      <td>12.000</td>\n",
       "      <td>12.000</td>\n",
       "      <td>12.600</td>\n",
       "      <td>12.800</td>\n",
       "      <td>13.000</td>\n",
       "      <td>12.800</td>\n",
       "      <td>13.000</td>\n",
       "      <td>13.300</td>\n",
       "      <td>13.500</td>\n",
       "      <td>13.500</td>\n",
       "      <td>13.700</td>\n",
       "    </tr>\n",
       "    <tr>\n",
       "      <th>...</th>\n",
       "      <td>...</td>\n",
       "      <td>...</td>\n",
       "      <td>...</td>\n",
       "      <td>...</td>\n",
       "      <td>...</td>\n",
       "      <td>...</td>\n",
       "      <td>...</td>\n",
       "      <td>...</td>\n",
       "      <td>...</td>\n",
       "      <td>...</td>\n",
       "      <td>...</td>\n",
       "      <td>...</td>\n",
       "      <td>...</td>\n",
       "    </tr>\n",
       "    <tr>\n",
       "      <th>105</th>\n",
       "      <td>2018</td>\n",
       "      <td>247.867</td>\n",
       "      <td>248.991</td>\n",
       "      <td>249.554</td>\n",
       "      <td>250.546</td>\n",
       "      <td>251.588</td>\n",
       "      <td>251.989</td>\n",
       "      <td>252.006</td>\n",
       "      <td>252.146</td>\n",
       "      <td>252.439</td>\n",
       "      <td>252.885</td>\n",
       "      <td>252.038</td>\n",
       "      <td>251.233</td>\n",
       "    </tr>\n",
       "    <tr>\n",
       "      <th>106</th>\n",
       "      <td>2019</td>\n",
       "      <td>251.712</td>\n",
       "      <td>252.776</td>\n",
       "      <td>254.202</td>\n",
       "      <td>255.548</td>\n",
       "      <td>256.092</td>\n",
       "      <td>256.143</td>\n",
       "      <td>256.571</td>\n",
       "      <td>256.558</td>\n",
       "      <td>256.759</td>\n",
       "      <td>257.346</td>\n",
       "      <td>257.208</td>\n",
       "      <td>256.974</td>\n",
       "    </tr>\n",
       "    <tr>\n",
       "      <th>107</th>\n",
       "      <td>2020</td>\n",
       "      <td>257.971</td>\n",
       "      <td>258.678</td>\n",
       "      <td>258.115</td>\n",
       "      <td>256.389</td>\n",
       "      <td>256.394</td>\n",
       "      <td>257.797</td>\n",
       "      <td>259.101</td>\n",
       "      <td>259.918</td>\n",
       "      <td>260.280</td>\n",
       "      <td>260.388</td>\n",
       "      <td>260.229</td>\n",
       "      <td>260.474</td>\n",
       "    </tr>\n",
       "    <tr>\n",
       "      <th>108</th>\n",
       "      <td>2021</td>\n",
       "      <td>261.582</td>\n",
       "      <td>263.014</td>\n",
       "      <td>264.877</td>\n",
       "      <td>267.054</td>\n",
       "      <td>269.195</td>\n",
       "      <td>271.696</td>\n",
       "      <td>273.003</td>\n",
       "      <td>273.567</td>\n",
       "      <td>274.310</td>\n",
       "      <td>276.589</td>\n",
       "      <td>277.948</td>\n",
       "      <td>278.802</td>\n",
       "    </tr>\n",
       "    <tr>\n",
       "      <th>109</th>\n",
       "      <td>2022</td>\n",
       "      <td>281.148</td>\n",
       "      <td>283.716</td>\n",
       "      <td>287.504</td>\n",
       "      <td>289.109</td>\n",
       "      <td>NaN</td>\n",
       "      <td>NaN</td>\n",
       "      <td>NaN</td>\n",
       "      <td>NaN</td>\n",
       "      <td>NaN</td>\n",
       "      <td>NaN</td>\n",
       "      <td>NaN</td>\n",
       "      <td>NaN</td>\n",
       "    </tr>\n",
       "  </tbody>\n",
       "</table>\n",
       "<p>110 rows × 13 columns</p>\n",
       "</div>"
      ],
      "text/plain": [
       "     Year      Jan      Feb      Mar      Apr      May      Jun      Jul  \\\n",
       "0    1913    9.800    9.800    9.800    9.800    9.700    9.800    9.900   \n",
       "1    1914   10.000    9.900    9.900    9.800    9.900    9.900   10.000   \n",
       "2    1915   10.100   10.000    9.900   10.000   10.100   10.100   10.100   \n",
       "3    1916   10.400   10.400   10.500   10.600   10.700   10.800   10.800   \n",
       "4    1917   11.700   12.000   12.000   12.600   12.800   13.000   12.800   \n",
       "..    ...      ...      ...      ...      ...      ...      ...      ...   \n",
       "105  2018  247.867  248.991  249.554  250.546  251.588  251.989  252.006   \n",
       "106  2019  251.712  252.776  254.202  255.548  256.092  256.143  256.571   \n",
       "107  2020  257.971  258.678  258.115  256.389  256.394  257.797  259.101   \n",
       "108  2021  261.582  263.014  264.877  267.054  269.195  271.696  273.003   \n",
       "109  2022  281.148  283.716  287.504  289.109      NaN      NaN      NaN   \n",
       "\n",
       "         Aug      Sep      Oct      Nov      Dec  \n",
       "0      9.900   10.000   10.000   10.100   10.000  \n",
       "1     10.200   10.200   10.100   10.200   10.100  \n",
       "2     10.100   10.100   10.200   10.300   10.300  \n",
       "3     10.900   11.100   11.300   11.500   11.600  \n",
       "4     13.000   13.300   13.500   13.500   13.700  \n",
       "..       ...      ...      ...      ...      ...  \n",
       "105  252.146  252.439  252.885  252.038  251.233  \n",
       "106  256.558  256.759  257.346  257.208  256.974  \n",
       "107  259.918  260.280  260.388  260.229  260.474  \n",
       "108  273.567  274.310  276.589  277.948  278.802  \n",
       "109      NaN      NaN      NaN      NaN      NaN  \n",
       "\n",
       "[110 rows x 13 columns]"
      ]
     },
     "execution_count": 8,
     "metadata": {},
     "output_type": "execute_result"
    }
   ],
   "source": [
    "#remove unnecessary column\n",
    "df = df.drop(columns = ['Unnamed: 0'])\n",
    "df"
   ]
  },
  {
   "cell_type": "code",
   "execution_count": 9,
   "id": "84028daa",
   "metadata": {},
   "outputs": [
    {
     "data": {
      "text/html": [
       "<div>\n",
       "<style scoped>\n",
       "    .dataframe tbody tr th:only-of-type {\n",
       "        vertical-align: middle;\n",
       "    }\n",
       "\n",
       "    .dataframe tbody tr th {\n",
       "        vertical-align: top;\n",
       "    }\n",
       "\n",
       "    .dataframe thead th {\n",
       "        text-align: right;\n",
       "    }\n",
       "</style>\n",
       "<table border=\"1\" class=\"dataframe\">\n",
       "  <thead>\n",
       "    <tr style=\"text-align: right;\">\n",
       "      <th></th>\n",
       "      <th>Year</th>\n",
       "      <th>Jan</th>\n",
       "      <th>Feb</th>\n",
       "      <th>Mar</th>\n",
       "      <th>Apr</th>\n",
       "      <th>May</th>\n",
       "      <th>Jun</th>\n",
       "      <th>Jul</th>\n",
       "      <th>Aug</th>\n",
       "      <th>Sep</th>\n",
       "      <th>Oct</th>\n",
       "      <th>Nov</th>\n",
       "      <th>Dec</th>\n",
       "    </tr>\n",
       "  </thead>\n",
       "  <tbody>\n",
       "    <tr>\n",
       "      <th>count</th>\n",
       "      <td>110.000000</td>\n",
       "      <td>110.000000</td>\n",
       "      <td>110.000000</td>\n",
       "      <td>110.000000</td>\n",
       "      <td>110.000000</td>\n",
       "      <td>109.000000</td>\n",
       "      <td>109.000000</td>\n",
       "      <td>109.000000</td>\n",
       "      <td>109.000000</td>\n",
       "      <td>109.000000</td>\n",
       "      <td>109.000000</td>\n",
       "      <td>109.000000</td>\n",
       "      <td>109.000000</td>\n",
       "    </tr>\n",
       "    <tr>\n",
       "      <th>mean</th>\n",
       "      <td>1967.500000</td>\n",
       "      <td>83.793200</td>\n",
       "      <td>84.102327</td>\n",
       "      <td>84.485900</td>\n",
       "      <td>84.799836</td>\n",
       "      <td>83.182339</td>\n",
       "      <td>83.458789</td>\n",
       "      <td>83.638954</td>\n",
       "      <td>83.818119</td>\n",
       "      <td>84.066394</td>\n",
       "      <td>84.202312</td>\n",
       "      <td>84.200798</td>\n",
       "      <td>84.170550</td>\n",
       "    </tr>\n",
       "    <tr>\n",
       "      <th>std</th>\n",
       "      <td>31.898276</td>\n",
       "      <td>82.047029</td>\n",
       "      <td>82.441509</td>\n",
       "      <td>82.906825</td>\n",
       "      <td>83.190922</td>\n",
       "      <td>81.448461</td>\n",
       "      <td>81.663445</td>\n",
       "      <td>81.725646</td>\n",
       "      <td>81.843079</td>\n",
       "      <td>82.004651</td>\n",
       "      <td>82.038188</td>\n",
       "      <td>81.895101</td>\n",
       "      <td>81.763823</td>\n",
       "    </tr>\n",
       "    <tr>\n",
       "      <th>min</th>\n",
       "      <td>1913.000000</td>\n",
       "      <td>9.800000</td>\n",
       "      <td>9.800000</td>\n",
       "      <td>9.800000</td>\n",
       "      <td>9.800000</td>\n",
       "      <td>9.700000</td>\n",
       "      <td>9.800000</td>\n",
       "      <td>9.900000</td>\n",
       "      <td>9.900000</td>\n",
       "      <td>10.000000</td>\n",
       "      <td>10.000000</td>\n",
       "      <td>10.100000</td>\n",
       "      <td>10.000000</td>\n",
       "    </tr>\n",
       "    <tr>\n",
       "      <th>25%</th>\n",
       "      <td>1940.250000</td>\n",
       "      <td>17.425000</td>\n",
       "      <td>17.400000</td>\n",
       "      <td>17.325000</td>\n",
       "      <td>17.425000</td>\n",
       "      <td>17.500000</td>\n",
       "      <td>17.600000</td>\n",
       "      <td>17.500000</td>\n",
       "      <td>17.700000</td>\n",
       "      <td>17.500000</td>\n",
       "      <td>17.600000</td>\n",
       "      <td>17.700000</td>\n",
       "      <td>17.700000</td>\n",
       "    </tr>\n",
       "    <tr>\n",
       "      <th>50%</th>\n",
       "      <td>1967.500000</td>\n",
       "      <td>33.500000</td>\n",
       "      <td>33.550000</td>\n",
       "      <td>33.650000</td>\n",
       "      <td>33.750000</td>\n",
       "      <td>33.200000</td>\n",
       "      <td>33.300000</td>\n",
       "      <td>33.400000</td>\n",
       "      <td>33.500000</td>\n",
       "      <td>33.600000</td>\n",
       "      <td>33.700000</td>\n",
       "      <td>33.800000</td>\n",
       "      <td>33.900000</td>\n",
       "    </tr>\n",
       "    <tr>\n",
       "      <th>75%</th>\n",
       "      <td>1994.750000</td>\n",
       "      <td>149.275000</td>\n",
       "      <td>149.850000</td>\n",
       "      <td>150.350000</td>\n",
       "      <td>150.775000</td>\n",
       "      <td>147.500000</td>\n",
       "      <td>148.000000</td>\n",
       "      <td>148.400000</td>\n",
       "      <td>149.000000</td>\n",
       "      <td>149.400000</td>\n",
       "      <td>149.500000</td>\n",
       "      <td>149.700000</td>\n",
       "      <td>149.700000</td>\n",
       "    </tr>\n",
       "    <tr>\n",
       "      <th>max</th>\n",
       "      <td>2022.000000</td>\n",
       "      <td>281.148000</td>\n",
       "      <td>283.716000</td>\n",
       "      <td>287.504000</td>\n",
       "      <td>289.109000</td>\n",
       "      <td>269.195000</td>\n",
       "      <td>271.696000</td>\n",
       "      <td>273.003000</td>\n",
       "      <td>273.567000</td>\n",
       "      <td>274.310000</td>\n",
       "      <td>276.589000</td>\n",
       "      <td>277.948000</td>\n",
       "      <td>278.802000</td>\n",
       "    </tr>\n",
       "  </tbody>\n",
       "</table>\n",
       "</div>"
      ],
      "text/plain": [
       "              Year         Jan         Feb         Mar         Apr  \\\n",
       "count   110.000000  110.000000  110.000000  110.000000  110.000000   \n",
       "mean   1967.500000   83.793200   84.102327   84.485900   84.799836   \n",
       "std      31.898276   82.047029   82.441509   82.906825   83.190922   \n",
       "min    1913.000000    9.800000    9.800000    9.800000    9.800000   \n",
       "25%    1940.250000   17.425000   17.400000   17.325000   17.425000   \n",
       "50%    1967.500000   33.500000   33.550000   33.650000   33.750000   \n",
       "75%    1994.750000  149.275000  149.850000  150.350000  150.775000   \n",
       "max    2022.000000  281.148000  283.716000  287.504000  289.109000   \n",
       "\n",
       "              May         Jun         Jul         Aug         Sep         Oct  \\\n",
       "count  109.000000  109.000000  109.000000  109.000000  109.000000  109.000000   \n",
       "mean    83.182339   83.458789   83.638954   83.818119   84.066394   84.202312   \n",
       "std     81.448461   81.663445   81.725646   81.843079   82.004651   82.038188   \n",
       "min      9.700000    9.800000    9.900000    9.900000   10.000000   10.000000   \n",
       "25%     17.500000   17.600000   17.500000   17.700000   17.500000   17.600000   \n",
       "50%     33.200000   33.300000   33.400000   33.500000   33.600000   33.700000   \n",
       "75%    147.500000  148.000000  148.400000  149.000000  149.400000  149.500000   \n",
       "max    269.195000  271.696000  273.003000  273.567000  274.310000  276.589000   \n",
       "\n",
       "              Nov         Dec  \n",
       "count  109.000000  109.000000  \n",
       "mean    84.200798   84.170550  \n",
       "std     81.895101   81.763823  \n",
       "min     10.100000   10.000000  \n",
       "25%     17.700000   17.700000  \n",
       "50%     33.800000   33.900000  \n",
       "75%    149.700000  149.700000  \n",
       "max    277.948000  278.802000  "
      ]
     },
     "execution_count": 9,
     "metadata": {},
     "output_type": "execute_result"
    }
   ],
   "source": [
    "df.describe()"
   ]
  },
  {
   "cell_type": "code",
   "execution_count": 10,
   "id": "a7cca4d8",
   "metadata": {},
   "outputs": [
    {
     "data": {
      "text/plain": [
       "<AxesSubplot:xlabel='Year'>"
      ]
     },
     "execution_count": 10,
     "metadata": {},
     "output_type": "execute_result"
    },
    {
     "data": {
      "image/png": "[encoded data removed]",
      "text/plain": [
       "<Figure size 432x288 with 1 Axes>"
      ]
     },
     "metadata": {
      "needs_background": "light"
     },
     "output_type": "display_data"
    }
   ],
   "source": [
    "#plot January CPI each year\n",
    "column = [df.mean(axis = 1) for i in df]\n",
    "df.plot(x='Year', y='Jan')"
   ]
  },
  {
   "cell_type": "code",
   "execution_count": 11,
   "id": "19fd814f",
   "metadata": {},
   "outputs": [
    {
     "data": {
      "text/plain": [
       "0        9.883333\n",
       "1       10.016667\n",
       "2       10.108333\n",
       "3       10.883333\n",
       "4       12.825000\n",
       "          ...    \n",
       "105    251.106833\n",
       "106    255.657417\n",
       "107    258.811167\n",
       "108    270.969750\n",
       "109    285.369250\n",
       "Length: 110, dtype: float64"
      ]
     },
     "execution_count": 11,
     "metadata": {},
     "output_type": "execute_result"
    }
   ],
   "source": [
    "#average CPI per year\n",
    "avg_df = df\n",
    "avg_df = avg_df.drop(columns = 'Year')\n",
    "column = avg_df.mean(axis=1)\n",
    "column"
   ]
  },
  {
   "cell_type": "code",
   "execution_count": 12,
   "id": "3ed49981",
   "metadata": {},
   "outputs": [
    {
     "data": {
      "text/plain": [
       "<matplotlib.collections.PathCollection at 0x1814e7989d0>"
      ]
     },
     "execution_count": 12,
     "metadata": {},
     "output_type": "execute_result"
    },
    {
     "data": {
      "image/png": "[encoded data removed]",
      "text/plain": [
       "<Figure size 432x288 with 1 Axes>"
      ]
     },
     "metadata": {
      "needs_background": "light"
     },
     "output_type": "display_data"
    }
   ],
   "source": [
    "import matplotlib.pyplot as plt\n",
    "plt.scatter(df['Year'], column)"
   ]
  },
  {
   "cell_type": "code",
   "execution_count": 13,
   "id": "62bdf165",
   "metadata": {},
   "outputs": [
    {
     "name": "stdout",
     "output_type": "stream",
     "text": [
      "156.4769230769231\n",
      "156.6384615384615\n",
      "157.43076923076922\n",
      "159.29999999999998\n",
      "161.42307692307693\n",
      "163.61538461538464\n",
      "166.19230769230774\n",
      "164.24615384615387\n",
      "163.30769230769235\n",
      "163.6615384615385\n",
      "163.80769230769226\n",
      "164.26923076923075\n"
     ]
    }
   ],
   "source": [
    "#average CPI each month\n",
    "for i in range(12): \n",
    "    print(df.iloc[i + 1].mean())"
   ]
  },
  {
   "cell_type": "code",
   "execution_count": 14,
   "id": "40984b43",
   "metadata": {},
   "outputs": [
    {
     "data": {
      "text/plain": [
       "Text(0.5, 0, 'Month #')"
      ]
     },
     "execution_count": 14,
     "metadata": {},
     "output_type": "execute_result"
    },
    {
     "data": {
      "image/png": "[encoded data removed]",
      "text/plain": [
       "<Figure size 432x288 with 1 Axes>"
      ]
     },
     "metadata": {
      "needs_background": "light"
     },
     "output_type": "display_data"
    }
   ],
   "source": [
    "#inflation during President Biden's presidency\n",
    "biden_df = avg_df.iloc[108:110]\n",
    "biden_df_row = biden_df.to_numpy().flatten()\n",
    "biden_df_row = biden_df_row[0:18]\n",
    "columns = [i for i in range(18)]\n",
    "plt.xticks(range(0, 18, 1))\n",
    "plt.yticks(range(int(min(biden_df_row)), int(max(biden_df_row)), 2))\n",
    "plt.scatter(columns, biden_df_row)\n",
    "plt.xlabel('Month #')"
   ]
  },
  {
   "cell_type": "code",
   "execution_count": 49,
   "id": "a535e4fc",
   "metadata": {},
   "outputs": [
    {
     "data": {
      "text/plain": [
       "Jan    271.3650\n",
       "Feb    273.3650\n",
       "Mar    276.1905\n",
       "Apr    278.0815\n",
       "May    269.1950\n",
       "Jun    271.6960\n",
       "Jul    273.0030\n",
       "Aug    273.5670\n",
       "Sep    274.3100\n",
       "Oct    276.5890\n",
       "Nov    277.9480\n",
       "Dec    278.8020\n",
       "dtype: float64"
      ]
     },
     "execution_count": 49,
     "metadata": {},
     "output_type": "execute_result"
    }
   ],
   "source": [
    "biden_df.mean()"
   ]
  },
  {
   "cell_type": "code",
   "execution_count": 15,
   "id": "09bcd040",
   "metadata": {},
   "outputs": [
    {
     "data": {
      "text/plain": [
       "Text(0.5, 0, 'Month #')"
      ]
     },
     "execution_count": 15,
     "metadata": {},
     "output_type": "execute_result"
    },
    {
     "data": {
      "image/png": "[encoded data removed]",
      "text/plain": [
       "<Figure size 432x288 with 1 Axes>"
      ]
     },
     "metadata": {
      "needs_background": "light"
     },
     "output_type": "display_data"
    }
   ],
   "source": [
    "#inflation during President Trump's presidency\n",
    "trump_df = avg_df.iloc[103:107]\n",
    "trump_df_row = trump_df.to_numpy().flatten()\n",
    "trump_df_row = trump_df_row[0:48]\n",
    "columns = [i for i in range(48)]\n",
    "plt.xticks(range(0, 48, 4))\n",
    "plt.yticks(range(int(min(trump_df_row)), int(max(trump_df_row)), 2))\n",
    "plt.scatter(columns, trump_df_row)\n",
    "plt.xlabel('Month #')"
   ]
  },
  {
   "cell_type": "code",
   "execution_count": 45,
   "id": "fa7d6aa4",
   "metadata": {},
   "outputs": [
    {
     "data": {
      "text/plain": [
       "Jan    244.83350\n",
       "Feb    245.62025\n",
       "Mar    246.42225\n",
       "Apr    247.46975\n",
       "May    248.16050\n",
       "Jun    248.52625\n",
       "Jul    248.49775\n",
       "Aug    248.76800\n",
       "Sep    249.36125\n",
       "Oct    249.65575\n",
       "Nov    249.31700\n",
       "Dec    249.04075\n",
       "dtype: float64"
      ]
     },
     "execution_count": 45,
     "metadata": {},
     "output_type": "execute_result"
    }
   ],
   "source": [
    "trump_df.mean()"
   ]
  },
  {
   "cell_type": "code",
   "execution_count": 16,
   "id": "a6d651d1",
   "metadata": {},
   "outputs": [
    {
     "data": {
      "text/plain": [
       "Text(0.5, 0, 'Month #')"
      ]
     },
     "execution_count": 16,
     "metadata": {},
     "output_type": "execute_result"
    },
    {
     "data": {
      "image/png": "[encoded data removed]",
      "text/plain": [
       "<Figure size 432x288 with 1 Axes>"
      ]
     },
     "metadata": {
      "needs_background": "light"
     },
     "output_type": "display_data"
    }
   ],
   "source": [
    "#inflation during President Obama's presidency\n",
    "obama_df = avg_df.iloc[96:101]\n",
    "obama_df_row = obama_df.to_numpy().flatten()\n",
    "obama_df_row = obama_df_row[0:48]\n",
    "columns = [i for i in range(48)]\n",
    "plt.xticks(range(0, 48, 4))\n",
    "plt.yticks(range(int(min(obama_df_row)), int(max(obama_df_row)), 2))\n",
    "plt.scatter(columns, obama_df_row)\n",
    "plt.xlabel('Month #')"
   ]
  },
  {
   "cell_type": "code",
   "execution_count": 38,
   "id": "09951b9d",
   "metadata": {},
   "outputs": [
    {
     "data": {
      "text/plain": [
       "Jan    220.9996\n",
       "Feb    222.0144\n",
       "Mar    223.1944\n",
       "Apr    223.7542\n",
       "May    224.1516\n",
       "Jun    224.4724\n",
       "Jul    224.3968\n",
       "Aug    224.9894\n",
       "Sep    225.3706\n",
       "Oct    225.2344\n",
       "Nov    224.9306\n",
       "Dec    224.6900\n",
       "dtype: float64"
      ]
     },
     "execution_count": 38,
     "metadata": {},
     "output_type": "execute_result"
    }
   ],
   "source": [
    "obama_df.mean()"
   ]
  },
  {
   "cell_type": "code",
   "execution_count": 17,
   "id": "0229b553",
   "metadata": {},
   "outputs": [
    {
     "data": {
      "text/plain": [
       "Text(0.5, 0, 'Month #')"
      ]
     },
     "execution_count": 17,
     "metadata": {},
     "output_type": "execute_result"
    },
    {
     "data": {
      "image/png": "[encoded data removed]",
      "text/plain": [
       "<Figure size 432x288 with 1 Axes>"
      ]
     },
     "metadata": {
      "needs_background": "light"
     },
     "output_type": "display_data"
    }
   ],
   "source": [
    "#inflation during President Bush's presidency\n",
    "bush_df = avg_df.iloc[90:95]\n",
    "bush_df_row = bush_df.to_numpy().flatten()\n",
    "bush_df_row = bush_df_row[0:48]\n",
    "columns = [i for i in range(48)]\n",
    "plt.xticks(range(0, 48, 4))\n",
    "plt.yticks(range(int(min(bush_df_row)), int(max(bush_df_row)), 2))\n",
    "plt.scatter(columns, bush_df_row)\n",
    "plt.xlabel('Month #')"
   ]
  },
  {
   "cell_type": "code",
   "execution_count": 36,
   "id": "992bb673",
   "metadata": {},
   "outputs": [
    {
     "data": {
      "text/plain": [
       "Jan    202.416\n",
       "Feb    203.499\n",
       "Mar    205.352\n",
       "Apr    206.686\n",
       "May    207.949\n",
       "Jun    208.352\n",
       "Jul    208.299\n",
       "Aug    207.917\n",
       "Sep    208.490\n",
       "Oct    208.936\n",
       "Nov    210.177\n",
       "Dec    210.036\n",
       "dtype: float64"
      ]
     },
     "execution_count": 36,
     "metadata": {},
     "output_type": "execute_result"
    }
   ],
   "source": [
    "bush_df.max()"
   ]
  },
  {
   "cell_type": "code",
   "execution_count": 55,
   "id": "503a28cf",
   "metadata": {},
   "outputs": [
    {
     "data": {
      "text/plain": [
       "<matplotlib.legend.Legend at 0x1814fdb6670>"
      ]
     },
     "execution_count": 55,
     "metadata": {},
     "output_type": "execute_result"
    },
    {
     "data": {
      "image/png": "[encoded data removed]",
      "text/plain": [
       "<Figure size 432x288 with 1 Axes>"
      ]
     },
     "metadata": {
      "needs_background": "light"
     },
     "output_type": "display_data"
    }
   ],
   "source": [
    "obama=obama_df.mean()\n",
    "bush=bush_df.mean()\n",
    "obama.plot(color=\"b\",style=\"--\")\n",
    "bush.plot(color='r',style=\"--\")\n",
    "plt.legend([\"Obama\", \"Bush\"], loc =\"right\")"
   ]
  },
  {
   "cell_type": "code",
   "execution_count": 52,
   "id": "f3c0a0ec",
   "metadata": {},
   "outputs": [
    {
     "data": {
      "text/plain": [
       "<matplotlib.legend.Legend at 0x1814fda2fa0>"
      ]
     },
     "execution_count": 52,
     "metadata": {},
     "output_type": "execute_result"
    },
    {
     "data": {
      "image/png": "[encoded data removed]",
      "text/plain": [
       "<Figure size 432x288 with 1 Axes>"
      ]
     },
     "metadata": {
      "needs_background": "light"
     },
     "output_type": "display_data"
    }
   ],
   "source": [
    "biden=biden_df.mean()\n",
    "trump=trump_df.mean()\n",
    "biden.plot(color=\"b\",style=\"--\")\n",
    "trump.plot(color='r',style=\"--\")\n",
    "plt.legend([\"Biden\", \"Trump\"], loc =\"right\")"
   ]
  },
  {
   "cell_type": "code",
   "execution_count": 65,
   "id": "053ba053",
   "metadata": {},
   "outputs": [
    {
     "data": {
      "text/plain": [
       "Jan    26.53150\n",
       "Feb    27.74475\n",
       "Mar    29.76825\n",
       "Apr    30.61175\n",
       "May    21.03450\n",
       "Jun    23.16975\n",
       "Jul    24.50525\n",
       "Aug    24.79900\n",
       "Sep    24.94875\n",
       "Oct    26.93325\n",
       "Nov    28.63100\n",
       "Dec    29.76125\n",
       "dtype: float64"
      ]
     },
     "execution_count": 65,
     "metadata": {},
     "output_type": "execute_result"
    }
   ],
   "source": [
    "BT=biden-trump\n",
    "BT"
   ]
  },
  {
   "cell_type": "code",
   "execution_count": 69,
   "id": "ade3e847",
   "metadata": {},
   "outputs": [
    {
     "data": {
      "text/plain": [
       "Jan    29.3364\n",
       "Feb    29.3546\n",
       "Mar    29.1840\n",
       "Apr    28.8370\n",
       "May    28.6618\n",
       "Jun    28.6420\n",
       "Jul    28.2970\n",
       "Aug    28.5260\n",
       "Sep    28.3126\n",
       "Oct    28.0672\n",
       "Nov    27.9752\n",
       "Dec    28.0428\n",
       "dtype: float64"
      ]
     },
     "execution_count": 69,
     "metadata": {},
     "output_type": "execute_result"
    }
   ],
   "source": [
    "OB=obama-bush\n",
    "OB"
   ]
  },
  {
   "cell_type": "code",
   "execution_count": 67,
   "id": "d073d1ba",
   "metadata": {},
   "outputs": [
    {
     "data": {
      "text/plain": [
       "<matplotlib.legend.Legend at 0x1814fe93c70>"
      ]
     },
     "execution_count": 67,
     "metadata": {},
     "output_type": "execute_result"
    },
    {
     "data": {
      "image/png": "[encoded data removed]",
      "text/plain": [
       "<Figure size 432x288 with 1 Axes>"
      ]
     },
     "metadata": {
      "needs_background": "light"
     },
     "output_type": "display_data"
    }
   ],
   "source": [
    "BT.plot()\n",
    "OB.plot()\n",
    "plt.legend([\"Biden/Trump\", \"Obama/Bush\"], loc =\"right\")"
   ]
  },
  {
   "cell_type": "code",
   "execution_count": null,
   "id": "03353d9d",
   "metadata": {},
   "outputs": [],
   "source": []
  },
  {
   "cell_type": "code",
   "execution_count": null,
   "id": "defca3d0",
   "metadata": {},
   "outputs": [],
   "source": []
  },
  {
   "cell_type": "code",
   "execution_count": null,
   "id": "1cacbac8",
   "metadata": {},
   "outputs": [],
   "source": []
  }
 ],
 "metadata": {
  "kernelspec": {
   "display_name": "Python 3 (ipykernel)",
   "language": "python",
   "name": "python3"
  },
  "language_info": {
   "codemirror_mode": {
    "name": "ipython",
    "version": 3
   },
   "file_extension": ".py",
   "mimetype": "text/x-python",
   "name": "python",
   "nbconvert_exporter": "python",
   "pygments_lexer": "ipython3",
   "version": "3.9.7"
  },
  "widgets": {
   "application/vnd.jupyter.widget-state+json": {
    "state": {},
    "version_major": 2,
    "version_minor": 0
   }
  }
 },
 "nbformat": 4,
 "nbformat_minor": 5
}
